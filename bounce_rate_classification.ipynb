{
 "cells": [
  {
   "cell_type": "markdown",
   "id": "cb3e3030-0876-402e-b235-d050974d7c3d",
   "metadata": {},
   "source": [
    "# User Engagement"
   ]
  },
  {
   "cell_type": "markdown",
   "id": "6fc9171b-83e2-4b30-8981-6c612264de5f",
   "metadata": {},
   "source": [
    "<img src=\"https://api.backlinko.com/app/uploads/2019/09/average-bounce-rate-differs-between-website-categories-768x602.webp\" alt=\"img\">"
   ]
  },
  {
   "cell_type": "markdown",
   "id": "4ea7516b-6b65-4b7e-adbb-4fb0fcb2bab0",
   "metadata": {},
   "source": [
    "<a href=\"https://statso.io/bounce-rate-case-study/\" target=\"_blank\">Data burada</a>"
   ]
  },
  {
   "cell_type": "markdown",
   "id": "0c3aeb84-aa9e-4934-8be2-1d0a72ae917a",
   "metadata": {},
   "source": [
    "* Bu proje, kullanıcıların oturum süreleri ve etkileşimleri üzerinden **deep learning** kullanarak  **session duration high** sutununun tahmin edilmesini hedeflemekte. Özellikle, kullanıcıların web sitesindeki oturum sürelerinin **3** dakikadan uzun olup olmadığını belirlemek için çeşitli özellikler analiz edilmektedir. Bu bağlamda, derin öğrenme teknikleri ile oluşturulan bir **classification** modeli, kullanıcı davranışlarını anlamak ve daha iyi bir kullanıcı deneyimi sağlamak amacıyla geliştirilmiştir."
   ]
  },
  {
   "cell_type": "code",
   "execution_count": 53,
   "id": "3fca45d1-2300-4b27-afc8-41ad29ed31fe",
   "metadata": {},
   "outputs": [],
   "source": [
    "import pandas as pd\n",
    "import matplotlib.pyplot as plt\n",
    "import seaborn as sns\n",
    "from tensorflow import keras\n",
    "import tensorflow as tf\n",
    "from tensorflow.keras import layers\n",
    "from tensorflow.keras.models import Sequential\n",
    "from tensorflow.keras.layers import Dense\n",
    "from sklearn.model_selection import train_test_split\n",
    "from sklearn.preprocessing import StandardScaler"
   ]
  },
  {
   "cell_type": "code",
   "execution_count": 2,
   "id": "d383e1b1-c02b-4f01-9df3-ede9af48f5c6",
   "metadata": {},
   "outputs": [],
   "source": [
    "df=pd.read_csv(\"bounce-rate.csv\")"
   ]
  },
  {
   "cell_type": "code",
   "execution_count": 3,
   "id": "6a45ba3b-ddf7-450a-9497-cf877a979324",
   "metadata": {},
   "outputs": [
    {
     "data": {
      "text/html": [
       "<div>\n",
       "<style scoped>\n",
       "    .dataframe tbody tr th:only-of-type {\n",
       "        vertical-align: middle;\n",
       "    }\n",
       "\n",
       "    .dataframe tbody tr th {\n",
       "        vertical-align: top;\n",
       "    }\n",
       "\n",
       "    .dataframe thead th {\n",
       "        text-align: right;\n",
       "    }\n",
       "</style>\n",
       "<table border=\"1\" class=\"dataframe\">\n",
       "  <thead>\n",
       "    <tr style=\"text-align: right;\">\n",
       "      <th></th>\n",
       "      <th>Client ID</th>\n",
       "      <th>Sessions</th>\n",
       "      <th>Avg. Session Duration</th>\n",
       "      <th>Bounce Rate</th>\n",
       "    </tr>\n",
       "  </thead>\n",
       "  <tbody>\n",
       "    <tr>\n",
       "      <th>0</th>\n",
       "      <td>5.778476e+08</td>\n",
       "      <td>367</td>\n",
       "      <td>00:01:35</td>\n",
       "      <td>87.19%</td>\n",
       "    </tr>\n",
       "    <tr>\n",
       "      <th>1</th>\n",
       "      <td>1.583822e+09</td>\n",
       "      <td>260</td>\n",
       "      <td>00:01:04</td>\n",
       "      <td>29.62%</td>\n",
       "    </tr>\n",
       "    <tr>\n",
       "      <th>2</th>\n",
       "      <td>1.030699e+09</td>\n",
       "      <td>237</td>\n",
       "      <td>00:00:02</td>\n",
       "      <td>99.16%</td>\n",
       "    </tr>\n",
       "    <tr>\n",
       "      <th>3</th>\n",
       "      <td>1.025030e+09</td>\n",
       "      <td>226</td>\n",
       "      <td>00:02:22</td>\n",
       "      <td>25.66%</td>\n",
       "    </tr>\n",
       "    <tr>\n",
       "      <th>4</th>\n",
       "      <td>1.469968e+09</td>\n",
       "      <td>216</td>\n",
       "      <td>00:01:23</td>\n",
       "      <td>46.76%</td>\n",
       "    </tr>\n",
       "  </tbody>\n",
       "</table>\n",
       "</div>"
      ],
      "text/plain": [
       "      Client ID  Sessions Avg. Session Duration Bounce Rate\n",
       "0  5.778476e+08       367              00:01:35      87.19%\n",
       "1  1.583822e+09       260              00:01:04      29.62%\n",
       "2  1.030699e+09       237              00:00:02      99.16%\n",
       "3  1.025030e+09       226              00:02:22      25.66%\n",
       "4  1.469968e+09       216              00:01:23      46.76%"
      ]
     },
     "execution_count": 3,
     "metadata": {},
     "output_type": "execute_result"
    }
   ],
   "source": [
    "df.head()"
   ]
  },
  {
   "cell_type": "code",
   "execution_count": 4,
   "id": "34f51f86-923b-4ff0-8d1e-438cb743bcef",
   "metadata": {},
   "outputs": [
    {
     "data": {
      "text/plain": [
       "(999, 4)"
      ]
     },
     "execution_count": 4,
     "metadata": {},
     "output_type": "execute_result"
    }
   ],
   "source": [
    "df.shape"
   ]
  },
  {
   "cell_type": "code",
   "execution_count": 5,
   "id": "90e55971-062d-443d-9a42-c676add95c70",
   "metadata": {},
   "outputs": [
    {
     "name": "stdout",
     "output_type": "stream",
     "text": [
      "<class 'pandas.core.frame.DataFrame'>\n",
      "RangeIndex: 999 entries, 0 to 998\n",
      "Data columns (total 4 columns):\n",
      " #   Column                 Non-Null Count  Dtype  \n",
      "---  ------                 --------------  -----  \n",
      " 0   Client ID              999 non-null    float64\n",
      " 1   Sessions               999 non-null    int64  \n",
      " 2   Avg. Session Duration  999 non-null    object \n",
      " 3   Bounce Rate            999 non-null    object \n",
      "dtypes: float64(1), int64(1), object(2)\n",
      "memory usage: 31.3+ KB\n"
     ]
    }
   ],
   "source": [
    "df.info()"
   ]
  },
  {
   "cell_type": "code",
   "execution_count": 18,
   "id": "6204a07e-1532-4f61-bd05-4d34c4103aed",
   "metadata": {
    "scrolled": true
   },
   "outputs": [
    {
     "name": "stdout",
     "output_type": "stream",
     "text": [
      "['00:01:35' '00:01:04' '00:00:02' '00:02:22' '00:01:23' '00:01:44'\n",
      " '00:00:33' '00:01:22' '00:00:12' '00:00:24' '00:08:27' '00:02:46'\n",
      " '00:00:45' '00:00:01' '00:03:14' '00:09:43' '00:02:05' '00:03:56'\n",
      " '00:04:40' '00:02:35' '00:30:40' '00:03:53' '00:04:32' '00:07:01'\n",
      " '00:00:25' '00:03:15' '00:01:40' '00:01:56' '00:04:46' '00:03:52'\n",
      " '00:00:23' '00:00:36' '00:02:42' '00:03:28' '00:00:42' '00:03:01'\n",
      " '00:04:37' '00:00:27' '00:01:07' '00:01:25' '00:01:31' '00:01:17'\n",
      " '00:01:28' '00:02:37' '00:00:40' '00:04:14' '00:02:06' '00:00:44'\n",
      " '00:02:32' '00:20:30' '00:08:33' '00:00:32' '00:04:04' '00:06:09'\n",
      " '00:05:34' '00:09:29' '00:00:10' '00:00:08' '00:03:24' '00:04:41'\n",
      " '00:00:47' '00:02:20' '00:04:58' '00:03:07' '00:01:42' '00:03:45'\n",
      " '00:01:29' '00:00:43' '00:01:18' '00:02:14' '00:03:47' '00:00:46'\n",
      " '00:08:46' '00:06:56' '00:01:30' '00:06:07' '00:01:15' '00:06:30'\n",
      " '00:01:27' '00:00:35' '00:08:23' '00:01:08' '00:00:51' '00:04:07'\n",
      " '00:00:11' '00:08:41' '00:05:27' '00:02:24' '00:01:39' '00:04:36'\n",
      " '00:01:34' '00:01:41' '00:04:01' '00:02:19' '00:00:34' '00:00:55'\n",
      " '00:11:26' '00:01:32' '00:05:25' '00:00:54' '00:05:22' '00:02:50'\n",
      " '00:01:24' '00:01:02' '00:01:50' '00:00:00' '00:04:02' '00:09:08'\n",
      " '00:05:38' '00:05:10' '00:04:53' '00:02:12' '00:04:10' '00:02:16'\n",
      " '00:06:38' '00:06:47' '00:04:00' '00:03:30' '00:02:39' '00:07:40'\n",
      " '00:01:19' '00:00:13' '00:05:48' '00:08:07' '00:00:57' '00:03:31'\n",
      " '00:01:03' '00:02:31' '00:11:31' '00:00:19' '00:09:48' '00:03:23'\n",
      " '00:00:59' '00:02:43' '00:07:03' '00:04:39' '00:03:10' '00:02:21'\n",
      " '00:09:26' '00:06:03' '00:00:50' '00:24:25' '00:07:23' '00:00:18'\n",
      " '00:12:49' '00:01:01' '00:05:40' '00:04:44' '00:02:25' '00:10:33'\n",
      " '00:05:41' '00:02:40' '00:00:20' '00:11:30' '00:07:07' '00:06:58'\n",
      " '00:02:07' '00:01:33' '00:00:29' '00:00:03' '00:03:54' '00:01:11'\n",
      " '00:03:18' '00:02:58' '00:00:58' '00:01:10' '00:07:50' '00:00:21'\n",
      " '00:03:55' '00:16:15' '00:02:54' '00:04:33' '00:00:04' '00:00:38'\n",
      " '00:05:19' '00:00:37' '00:05:29' '00:09:13' '00:09:06' '00:06:59'\n",
      " '00:06:17' '00:09:50' '00:00:30' '00:05:14' '00:02:28' '00:02:26'\n",
      " '00:02:44' '00:04:30' '00:04:08' '00:00:26' '00:05:08' '00:05:45'\n",
      " '00:02:02' '00:12:03' '00:05:33' '00:04:25' '00:00:39' '00:10:36'\n",
      " '00:02:51' '00:08:49' '00:01:09' '00:29:58' '00:03:05' '00:06:50'\n",
      " '00:07:37' '00:05:36' '00:01:58' '00:04:13' '00:09:37' '00:04:42'\n",
      " '00:06:45' '00:16:22' '00:08:17' '00:05:58' '00:00:07' '00:02:34'\n",
      " '00:06:33' '00:04:49' '00:03:00' '00:01:49' '00:03:22' '00:11:20'\n",
      " '00:04:28' '00:04:12' '00:08:55' '00:04:48' '00:03:36' '00:04:43'\n",
      " '00:04:11' '00:03:16' '00:02:49' '00:03:20' '00:05:47' '00:03:09'\n",
      " '00:04:06' '00:22:07' '00:08:50' '00:00:09' '00:01:43' '<00:00:01'\n",
      " '00:00:22' '00:02:13' '00:09:36' '00:00:52' '00:03:35' '00:09:58'\n",
      " '00:03:29' '00:05:01' '00:03:51' '00:01:14' '00:11:21' '00:11:55'\n",
      " '00:09:28' '00:02:01' '00:06:15' '00:09:33' '00:01:57' '00:12:29'\n",
      " '00:07:06' '00:03:12' '00:03:49' '00:01:13' '00:02:18' '00:01:53'\n",
      " '00:09:03' '00:04:45' '00:06:54' '00:01:06' '00:00:53' '00:02:47'\n",
      " '00:17:59' '00:01:46' '00:06:49' '00:02:33' '00:01:20' '00:02:36'\n",
      " '00:08:56' '00:07:02' '00:02:17' '00:04:57' '00:00:05' '00:21:18'\n",
      " '00:01:12' '00:09:56' '00:08:26' '00:02:53' '00:11:38' '00:04:17'\n",
      " '00:03:11' '00:01:38' '00:01:48' '00:01:36' '00:00:16' '00:07:45'\n",
      " '00:06:40' '00:01:52' '00:02:08' '00:21:08' '00:03:59' '00:03:17'\n",
      " '00:01:16' '00:02:03' '00:12:17' '00:01:45' '00:13:35' '00:00:56'\n",
      " '00:02:41' '00:03:26' '00:11:51' '00:08:32' '00:08:47' '00:02:09'\n",
      " '00:11:35' '00:08:05' '00:12:23' '00:06:32' '00:03:06' '00:17:36'\n",
      " '00:20:18' '00:00:14' '00:13:44' '00:03:13' '00:01:47' '00:03:43'\n",
      " '00:01:21' '00:06:00' '00:12:58' '00:03:41' '00:11:06' '00:05:50'\n",
      " '00:03:48' '00:10:00' '00:10:25' '00:13:51' '00:07:56' '00:05:59'\n",
      " '00:03:40' '00:08:53' '00:02:10' '00:20:28' '00:00:15' '00:03:27'\n",
      " '00:03:19' '00:03:08' '00:03:32' '00:05:20' '00:05:42' '00:03:58'\n",
      " '00:16:32' '00:08:25' '00:02:45' '00:05:18' '00:11:47' '00:06:22'\n",
      " '00:09:52' '00:02:04' '00:08:40' '00:01:51' '00:12:56' '00:08:39'\n",
      " '00:03:21' '00:09:05' '00:05:12' '00:12:33' '00:01:37' '00:08:30'\n",
      " '00:05:21' '00:22:56' '00:06:46' '00:05:46' '00:02:30' '00:06:28'\n",
      " '00:12:28' '00:12:05' '00:05:09' '00:00:28' '00:05:04' '00:05:32'\n",
      " '00:10:10' '00:07:30' '00:06:01' '00:10:18' '00:08:13' '00:10:13'\n",
      " '00:12:41' '00:08:22' '00:05:57' '00:01:05' '00:16:21' '00:05:11'\n",
      " '00:15:06' '00:05:28' '00:09:24' '00:00:17' '00:19:19' '00:08:31'\n",
      " '00:03:34' '00:05:16' '00:11:40' '00:06:36' '00:07:20' '00:15:59'\n",
      " '00:05:06' '00:21:27' '00:02:59' '00:10:40' '00:13:08' '00:04:35'\n",
      " '00:07:25' '00:06:05' '00:06:24' '00:00:06' '00:16:28' '00:15:33'\n",
      " '00:02:00' '00:11:15' '00:02:23' '00:11:43' '00:04:54' '00:04:56'\n",
      " '00:14:04' '00:02:48' '00:10:32' '00:11:39' '00:06:35' '00:06:44'\n",
      " '00:10:38' '00:12:04' '00:07:34' '00:04:19' '00:05:13' '00:03:03'\n",
      " '00:07:00' '00:02:27' '00:04:26' '00:07:18' '00:15:39' '00:06:16'\n",
      " '00:06:26' '00:08:38' '00:03:44' '00:11:18' '00:03:46' '00:19:10'\n",
      " '00:08:16' '00:16:02' '00:09:46' '00:10:46' '00:05:26' '00:06:18'\n",
      " '00:03:33' '00:04:27' '00:05:24' '00:08:04' '00:05:05' '00:09:57'\n",
      " '00:04:22' '00:06:25' '00:00:31' '00:07:44' '00:05:37']\n"
     ]
    }
   ],
   "source": [
    "# bu sutunda arada değişik bi karakter vardı data obj görünüyordu\n",
    "print(df['Avg. Session Duration'].unique())"
   ]
  },
  {
   "cell_type": "code",
   "execution_count": 19,
   "id": "9894d329-7513-4182-b5fc-1ad1d500b4da",
   "metadata": {},
   "outputs": [],
   "source": [
    "df['Avg. Session Duration'] = df['Avg. Session Duration'].str.replace('<', '', regex=False)\n",
    "df['Avg. Session Duration'] = df['Avg. Session Duration'].str.strip()"
   ]
  },
  {
   "cell_type": "code",
   "execution_count": 20,
   "id": "07633680-d960-4c8d-a7c5-26a420cc6753",
   "metadata": {},
   "outputs": [],
   "source": [
    "df['Avg. Session Duration'] = pd.to_timedelta(df['Avg. Session Duration']) # otorum süreleri gibi zaman aralıklarını kullanacağımız içn deltatime kullandık"
   ]
  },
  {
   "cell_type": "code",
   "execution_count": 21,
   "id": "c17f5b03-1e17-42f4-959d-b12b8fec2183",
   "metadata": {},
   "outputs": [
    {
     "data": {
      "text/html": [
       "<div>\n",
       "<style scoped>\n",
       "    .dataframe tbody tr th:only-of-type {\n",
       "        vertical-align: middle;\n",
       "    }\n",
       "\n",
       "    .dataframe tbody tr th {\n",
       "        vertical-align: top;\n",
       "    }\n",
       "\n",
       "    .dataframe thead th {\n",
       "        text-align: right;\n",
       "    }\n",
       "</style>\n",
       "<table border=\"1\" class=\"dataframe\">\n",
       "  <thead>\n",
       "    <tr style=\"text-align: right;\">\n",
       "      <th></th>\n",
       "      <th>Client ID</th>\n",
       "      <th>Sessions</th>\n",
       "      <th>Avg. Session Duration</th>\n",
       "      <th>Bounce Rate</th>\n",
       "    </tr>\n",
       "  </thead>\n",
       "  <tbody>\n",
       "    <tr>\n",
       "      <th>0</th>\n",
       "      <td>5.778476e+08</td>\n",
       "      <td>367</td>\n",
       "      <td>0 days 00:01:35</td>\n",
       "      <td>87.19%</td>\n",
       "    </tr>\n",
       "    <tr>\n",
       "      <th>1</th>\n",
       "      <td>1.583822e+09</td>\n",
       "      <td>260</td>\n",
       "      <td>0 days 00:01:04</td>\n",
       "      <td>29.62%</td>\n",
       "    </tr>\n",
       "    <tr>\n",
       "      <th>2</th>\n",
       "      <td>1.030699e+09</td>\n",
       "      <td>237</td>\n",
       "      <td>0 days 00:00:02</td>\n",
       "      <td>99.16%</td>\n",
       "    </tr>\n",
       "    <tr>\n",
       "      <th>3</th>\n",
       "      <td>1.025030e+09</td>\n",
       "      <td>226</td>\n",
       "      <td>0 days 00:02:22</td>\n",
       "      <td>25.66%</td>\n",
       "    </tr>\n",
       "    <tr>\n",
       "      <th>4</th>\n",
       "      <td>1.469968e+09</td>\n",
       "      <td>216</td>\n",
       "      <td>0 days 00:01:23</td>\n",
       "      <td>46.76%</td>\n",
       "    </tr>\n",
       "  </tbody>\n",
       "</table>\n",
       "</div>"
      ],
      "text/plain": [
       "      Client ID  Sessions Avg. Session Duration Bounce Rate\n",
       "0  5.778476e+08       367       0 days 00:01:35      87.19%\n",
       "1  1.583822e+09       260       0 days 00:01:04      29.62%\n",
       "2  1.030699e+09       237       0 days 00:00:02      99.16%\n",
       "3  1.025030e+09       226       0 days 00:02:22      25.66%\n",
       "4  1.469968e+09       216       0 days 00:01:23      46.76%"
      ]
     },
     "execution_count": 21,
     "metadata": {},
     "output_type": "execute_result"
    }
   ],
   "source": [
    "df.head()"
   ]
  },
  {
   "cell_type": "code",
   "execution_count": 22,
   "id": "86f9d61f-f054-4f97-8a61-0110c7fe9596",
   "metadata": {},
   "outputs": [
    {
     "name": "stdout",
     "output_type": "stream",
     "text": [
      "<class 'pandas.core.frame.DataFrame'>\n",
      "RangeIndex: 999 entries, 0 to 998\n",
      "Data columns (total 4 columns):\n",
      " #   Column                 Non-Null Count  Dtype          \n",
      "---  ------                 --------------  -----          \n",
      " 0   Client ID              999 non-null    float64        \n",
      " 1   Sessions               999 non-null    int64          \n",
      " 2   Avg. Session Duration  999 non-null    timedelta64[ns]\n",
      " 3   Bounce Rate            999 non-null    object         \n",
      "dtypes: float64(1), int64(1), object(1), timedelta64[ns](1)\n",
      "memory usage: 31.3+ KB\n"
     ]
    }
   ],
   "source": [
    "df.info()"
   ]
  },
  {
   "cell_type": "code",
   "execution_count": 23,
   "id": "dafdf51a-e7e4-4894-8a6c-6f62180a5e9f",
   "metadata": {},
   "outputs": [],
   "source": [
    "df['Bounce Rate'] = df['Bounce Rate'].str.replace('%', '').astype(float) / 100"
   ]
  },
  {
   "cell_type": "code",
   "execution_count": 24,
   "id": "0660c1ca-8da7-4577-b5f0-44f7d08af1dc",
   "metadata": {},
   "outputs": [
    {
     "data": {
      "text/html": [
       "<div>\n",
       "<style scoped>\n",
       "    .dataframe tbody tr th:only-of-type {\n",
       "        vertical-align: middle;\n",
       "    }\n",
       "\n",
       "    .dataframe tbody tr th {\n",
       "        vertical-align: top;\n",
       "    }\n",
       "\n",
       "    .dataframe thead th {\n",
       "        text-align: right;\n",
       "    }\n",
       "</style>\n",
       "<table border=\"1\" class=\"dataframe\">\n",
       "  <thead>\n",
       "    <tr style=\"text-align: right;\">\n",
       "      <th></th>\n",
       "      <th>Client ID</th>\n",
       "      <th>Sessions</th>\n",
       "      <th>Avg. Session Duration</th>\n",
       "      <th>Bounce Rate</th>\n",
       "    </tr>\n",
       "  </thead>\n",
       "  <tbody>\n",
       "    <tr>\n",
       "      <th>count</th>\n",
       "      <td>9.990000e+02</td>\n",
       "      <td>999.000000</td>\n",
       "      <td>999</td>\n",
       "      <td>999.000000</td>\n",
       "    </tr>\n",
       "    <tr>\n",
       "      <th>mean</th>\n",
       "      <td>1.036401e+09</td>\n",
       "      <td>32.259259</td>\n",
       "      <td>0 days 00:03:38.191191191</td>\n",
       "      <td>0.653080</td>\n",
       "    </tr>\n",
       "    <tr>\n",
       "      <th>std</th>\n",
       "      <td>6.151503e+08</td>\n",
       "      <td>24.658588</td>\n",
       "      <td>0 days 00:04:02.433724353</td>\n",
       "      <td>0.229973</td>\n",
       "    </tr>\n",
       "    <tr>\n",
       "      <th>min</th>\n",
       "      <td>1.849182e+05</td>\n",
       "      <td>17.000000</td>\n",
       "      <td>0 days 00:00:00</td>\n",
       "      <td>0.048800</td>\n",
       "    </tr>\n",
       "    <tr>\n",
       "      <th>25%</th>\n",
       "      <td>4.801824e+08</td>\n",
       "      <td>21.000000</td>\n",
       "      <td>0 days 00:00:53.500000</td>\n",
       "      <td>0.473700</td>\n",
       "    </tr>\n",
       "    <tr>\n",
       "      <th>50%</th>\n",
       "      <td>1.029507e+09</td>\n",
       "      <td>25.000000</td>\n",
       "      <td>0 days 00:02:28</td>\n",
       "      <td>0.666700</td>\n",
       "    </tr>\n",
       "    <tr>\n",
       "      <th>75%</th>\n",
       "      <td>1.587982e+09</td>\n",
       "      <td>35.000000</td>\n",
       "      <td>0 days 00:04:49</td>\n",
       "      <td>0.851900</td>\n",
       "    </tr>\n",
       "    <tr>\n",
       "      <th>max</th>\n",
       "      <td>2.063338e+09</td>\n",
       "      <td>367.000000</td>\n",
       "      <td>0 days 00:30:40</td>\n",
       "      <td>1.000000</td>\n",
       "    </tr>\n",
       "  </tbody>\n",
       "</table>\n",
       "</div>"
      ],
      "text/plain": [
       "          Client ID    Sessions      Avg. Session Duration  Bounce Rate\n",
       "count  9.990000e+02  999.000000                        999   999.000000\n",
       "mean   1.036401e+09   32.259259  0 days 00:03:38.191191191     0.653080\n",
       "std    6.151503e+08   24.658588  0 days 00:04:02.433724353     0.229973\n",
       "min    1.849182e+05   17.000000            0 days 00:00:00     0.048800\n",
       "25%    4.801824e+08   21.000000     0 days 00:00:53.500000     0.473700\n",
       "50%    1.029507e+09   25.000000            0 days 00:02:28     0.666700\n",
       "75%    1.587982e+09   35.000000            0 days 00:04:49     0.851900\n",
       "max    2.063338e+09  367.000000            0 days 00:30:40     1.000000"
      ]
     },
     "execution_count": 24,
     "metadata": {},
     "output_type": "execute_result"
    }
   ],
   "source": [
    "df.describe()"
   ]
  },
  {
   "cell_type": "raw",
   "id": "bda93ef8-48a9-4e47-9842-3bd87a4a5d2a",
   "metadata": {},
   "source": [
    "* ortalama süre 3 dk,\n",
    "* maximum yarım saat\n",
    "* kullanıcıların çoğunun ortalama süreye yakın sürede kaldığı, ancak bazı kullanıcıların daha uzun süre kaldığı belli."
   ]
  },
  {
   "cell_type": "code",
   "execution_count": 29,
   "id": "f2e0ced0-694c-4c18-80b5-e0788f14b304",
   "metadata": {},
   "outputs": [],
   "source": [
    "# Rakamlar çok sık ve karışık, güzel bir grafik oluşmuyor, visualization yapmadım."
   ]
  },
  {
   "cell_type": "code",
   "execution_count": 30,
   "id": "99853249-53e4-4478-b25a-d82af86260fa",
   "metadata": {},
   "outputs": [],
   "source": [
    "# 3 dakikadan uzun kalıp kalmaması üzerine bi classification modeli yapacağım, yeni bi sutun açıyorum\n",
    "# avg.ses sutununa göre bu sutuna atayacak\n",
    "duration_threshold = pd.Timedelta(minutes=3)\n",
    "df['Session Duration High'] = (df['Avg. Session Duration'] > duration_threshold).astype(int)"
   ]
  },
  {
   "cell_type": "code",
   "execution_count": 31,
   "id": "ea0ff6d4-949a-4f14-9526-4c9331c4c021",
   "metadata": {},
   "outputs": [],
   "source": [
    "x=df[['Sessions', 'Bounce Rate']]\n",
    "y=df[['Session Duration High']]"
   ]
  },
  {
   "cell_type": "code",
   "execution_count": 42,
   "id": "eff058a5-67d2-49b2-8a31-1a4bdf51fdc3",
   "metadata": {},
   "outputs": [],
   "source": [
    "x_train, x_test, y_train, y_test = train_test_split(x, y, test_size=0.2, random_state=42)"
   ]
  },
  {
   "cell_type": "code",
   "execution_count": 43,
   "id": "8b8f34d3-44c0-41d6-9bda-d32c7f164798",
   "metadata": {},
   "outputs": [
    {
     "name": "stderr",
     "output_type": "stream",
     "text": [
      "C:\\Users\\İdeaPad\\AppData\\Roaming\\Python\\Python312\\site-packages\\keras\\src\\layers\\core\\dense.py:87: UserWarning: Do not pass an `input_shape`/`input_dim` argument to a layer. When using Sequential models, prefer using an `Input(shape)` object as the first layer in the model instead.\n",
      "  super().__init__(activity_regularizer=activity_regularizer, **kwargs)\n"
     ]
    }
   ],
   "source": [
    "model = keras.Sequential([\n",
    "    layers.Dense(32, activation='relu', input_shape=(x_train.shape[1],)),\n",
    "    layers.Dense(16, activation='relu'),\n",
    "    layers.Dense(1, activation='sigmoid')  # cevabımız 1\n",
    "])"
   ]
  },
  {
   "cell_type": "code",
   "execution_count": 44,
   "id": "0a119dcb-7c1e-40e0-930a-0dc9822c3121",
   "metadata": {},
   "outputs": [],
   "source": [
    "model.compile(optimizer='adam', loss='binary_crossentropy', metrics=['accuracy'])"
   ]
  },
  {
   "cell_type": "code",
   "execution_count": 50,
   "id": "05203745-53fe-4f07-a3b7-3856d0c6d608",
   "metadata": {
    "scrolled": true
   },
   "outputs": [
    {
     "name": "stdout",
     "output_type": "stream",
     "text": [
      "Epoch 1/27\n",
      "\u001b[1m80/80\u001b[0m \u001b[32m━━━━━━━━━━━━━━━━━━━━\u001b[0m\u001b[37m\u001b[0m \u001b[1m0s\u001b[0m 2ms/step - accuracy: 0.7626 - loss: 0.4895 - val_accuracy: 0.7750 - val_loss: 0.4433\n",
      "Epoch 2/27\n",
      "\u001b[1m80/80\u001b[0m \u001b[32m━━━━━━━━━━━━━━━━━━━━\u001b[0m\u001b[37m\u001b[0m \u001b[1m0s\u001b[0m 2ms/step - accuracy: 0.7562 - loss: 0.4684 - val_accuracy: 0.7812 - val_loss: 0.4204\n",
      "Epoch 3/27\n",
      "\u001b[1m80/80\u001b[0m \u001b[32m━━━━━━━━━━━━━━━━━━━━\u001b[0m\u001b[37m\u001b[0m \u001b[1m0s\u001b[0m 1ms/step - accuracy: 0.7382 - loss: 0.4821 - val_accuracy: 0.8188 - val_loss: 0.4246\n",
      "Epoch 4/27\n",
      "\u001b[1m80/80\u001b[0m \u001b[32m━━━━━━━━━━━━━━━━━━━━\u001b[0m\u001b[37m\u001b[0m \u001b[1m0s\u001b[0m 1ms/step - accuracy: 0.7473 - loss: 0.4985 - val_accuracy: 0.7937 - val_loss: 0.4326\n",
      "Epoch 5/27\n",
      "\u001b[1m80/80\u001b[0m \u001b[32m━━━━━━━━━━━━━━━━━━━━\u001b[0m\u001b[37m\u001b[0m \u001b[1m0s\u001b[0m 1ms/step - accuracy: 0.7256 - loss: 0.4965 - val_accuracy: 0.7688 - val_loss: 0.4568\n",
      "Epoch 6/27\n",
      "\u001b[1m80/80\u001b[0m \u001b[32m━━━━━━━━━━━━━━━━━━━━\u001b[0m\u001b[37m\u001b[0m \u001b[1m0s\u001b[0m 2ms/step - accuracy: 0.7683 - loss: 0.4754 - val_accuracy: 0.8062 - val_loss: 0.4164\n",
      "Epoch 7/27\n",
      "\u001b[1m80/80\u001b[0m \u001b[32m━━━━━━━━━━━━━━━━━━━━\u001b[0m\u001b[37m\u001b[0m \u001b[1m0s\u001b[0m 2ms/step - accuracy: 0.8171 - loss: 0.4333 - val_accuracy: 0.7688 - val_loss: 0.4446\n",
      "Epoch 8/27\n",
      "\u001b[1m80/80\u001b[0m \u001b[32m━━━━━━━━━━━━━━━━━━━━\u001b[0m\u001b[37m\u001b[0m \u001b[1m0s\u001b[0m 1ms/step - accuracy: 0.7701 - loss: 0.4543 - val_accuracy: 0.7937 - val_loss: 0.4310\n",
      "Epoch 9/27\n",
      "\u001b[1m80/80\u001b[0m \u001b[32m━━━━━━━━━━━━━━━━━━━━\u001b[0m\u001b[37m\u001b[0m \u001b[1m0s\u001b[0m 1ms/step - accuracy: 0.7698 - loss: 0.4697 - val_accuracy: 0.8062 - val_loss: 0.4194\n",
      "Epoch 10/27\n",
      "\u001b[1m80/80\u001b[0m \u001b[32m━━━━━━━━━━━━━━━━━━━━\u001b[0m\u001b[37m\u001b[0m \u001b[1m0s\u001b[0m 2ms/step - accuracy: 0.7842 - loss: 0.4367 - val_accuracy: 0.7750 - val_loss: 0.4407\n",
      "Epoch 11/27\n",
      "\u001b[1m80/80\u001b[0m \u001b[32m━━━━━━━━━━━━━━━━━━━━\u001b[0m\u001b[37m\u001b[0m \u001b[1m0s\u001b[0m 2ms/step - accuracy: 0.7473 - loss: 0.4999 - val_accuracy: 0.8125 - val_loss: 0.4135\n",
      "Epoch 12/27\n",
      "\u001b[1m80/80\u001b[0m \u001b[32m━━━━━━━━━━━━━━━━━━━━\u001b[0m\u001b[37m\u001b[0m \u001b[1m0s\u001b[0m 2ms/step - accuracy: 0.7659 - loss: 0.4711 - val_accuracy: 0.8062 - val_loss: 0.4147\n",
      "Epoch 13/27\n",
      "\u001b[1m80/80\u001b[0m \u001b[32m━━━━━━━━━━━━━━━━━━━━\u001b[0m\u001b[37m\u001b[0m \u001b[1m0s\u001b[0m 1ms/step - accuracy: 0.7717 - loss: 0.4631 - val_accuracy: 0.8313 - val_loss: 0.4151\n",
      "Epoch 14/27\n",
      "\u001b[1m80/80\u001b[0m \u001b[32m━━━━━━━━━━━━━━━━━━━━\u001b[0m\u001b[37m\u001b[0m \u001b[1m0s\u001b[0m 1ms/step - accuracy: 0.7414 - loss: 0.4931 - val_accuracy: 0.7750 - val_loss: 0.4402\n",
      "Epoch 15/27\n",
      "\u001b[1m80/80\u001b[0m \u001b[32m━━━━━━━━━━━━━━━━━━━━\u001b[0m\u001b[37m\u001b[0m \u001b[1m0s\u001b[0m 2ms/step - accuracy: 0.7856 - loss: 0.4492 - val_accuracy: 0.8062 - val_loss: 0.4322\n",
      "Epoch 16/27\n",
      "\u001b[1m80/80\u001b[0m \u001b[32m━━━━━━━━━━━━━━━━━━━━\u001b[0m\u001b[37m\u001b[0m \u001b[1m0s\u001b[0m 2ms/step - accuracy: 0.7615 - loss: 0.4835 - val_accuracy: 0.8062 - val_loss: 0.4209\n",
      "Epoch 17/27\n",
      "\u001b[1m80/80\u001b[0m \u001b[32m━━━━━━━━━━━━━━━━━━━━\u001b[0m\u001b[37m\u001b[0m \u001b[1m0s\u001b[0m 1ms/step - accuracy: 0.7624 - loss: 0.4556 - val_accuracy: 0.7937 - val_loss: 0.4291\n",
      "Epoch 18/27\n",
      "\u001b[1m80/80\u001b[0m \u001b[32m━━━━━━━━━━━━━━━━━━━━\u001b[0m\u001b[37m\u001b[0m \u001b[1m0s\u001b[0m 1ms/step - accuracy: 0.7560 - loss: 0.4638 - val_accuracy: 0.8250 - val_loss: 0.4092\n",
      "Epoch 19/27\n",
      "\u001b[1m80/80\u001b[0m \u001b[32m━━━━━━━━━━━━━━━━━━━━\u001b[0m\u001b[37m\u001b[0m \u001b[1m0s\u001b[0m 2ms/step - accuracy: 0.7366 - loss: 0.5026 - val_accuracy: 0.7875 - val_loss: 0.4309\n",
      "Epoch 20/27\n",
      "\u001b[1m80/80\u001b[0m \u001b[32m━━━━━━━━━━━━━━━━━━━━\u001b[0m\u001b[37m\u001b[0m \u001b[1m0s\u001b[0m 2ms/step - accuracy: 0.7776 - loss: 0.4638 - val_accuracy: 0.7750 - val_loss: 0.4381\n",
      "Epoch 21/27\n",
      "\u001b[1m80/80\u001b[0m \u001b[32m━━━━━━━━━━━━━━━━━━━━\u001b[0m\u001b[37m\u001b[0m \u001b[1m0s\u001b[0m 2ms/step - accuracy: 0.7738 - loss: 0.4781 - val_accuracy: 0.7688 - val_loss: 0.4425\n",
      "Epoch 22/27\n",
      "\u001b[1m80/80\u001b[0m \u001b[32m━━━━━━━━━━━━━━━━━━━━\u001b[0m\u001b[37m\u001b[0m \u001b[1m0s\u001b[0m 1ms/step - accuracy: 0.7849 - loss: 0.4635 - val_accuracy: 0.8375 - val_loss: 0.4169\n",
      "Epoch 23/27\n",
      "\u001b[1m80/80\u001b[0m \u001b[32m━━━━━━━━━━━━━━━━━━━━\u001b[0m\u001b[37m\u001b[0m \u001b[1m0s\u001b[0m 2ms/step - accuracy: 0.7810 - loss: 0.4699 - val_accuracy: 0.8062 - val_loss: 0.4247\n",
      "Epoch 24/27\n",
      "\u001b[1m80/80\u001b[0m \u001b[32m━━━━━━━━━━━━━━━━━━━━\u001b[0m\u001b[37m\u001b[0m \u001b[1m0s\u001b[0m 2ms/step - accuracy: 0.7431 - loss: 0.4832 - val_accuracy: 0.7500 - val_loss: 0.4602\n",
      "Epoch 25/27\n",
      "\u001b[1m80/80\u001b[0m \u001b[32m━━━━━━━━━━━━━━━━━━━━\u001b[0m\u001b[37m\u001b[0m \u001b[1m0s\u001b[0m 2ms/step - accuracy: 0.7396 - loss: 0.4841 - val_accuracy: 0.7937 - val_loss: 0.4254\n",
      "Epoch 26/27\n",
      "\u001b[1m80/80\u001b[0m \u001b[32m━━━━━━━━━━━━━━━━━━━━\u001b[0m\u001b[37m\u001b[0m \u001b[1m0s\u001b[0m 1ms/step - accuracy: 0.7756 - loss: 0.4570 - val_accuracy: 0.7875 - val_loss: 0.4298\n",
      "Epoch 27/27\n",
      "\u001b[1m80/80\u001b[0m \u001b[32m━━━━━━━━━━━━━━━━━━━━\u001b[0m\u001b[37m\u001b[0m \u001b[1m0s\u001b[0m 1ms/step - accuracy: 0.7390 - loss: 0.5024 - val_accuracy: 0.8250 - val_loss: 0.4068\n"
     ]
    }
   ],
   "source": [
    "history=model.fit(x_train, y_train, epochs=27, batch_size=8, validation_split=0.2)"
   ]
  },
  {
   "cell_type": "code",
   "execution_count": 51,
   "id": "b3801370-3dd8-4cf6-a84b-efee5333ef77",
   "metadata": {},
   "outputs": [
    {
     "data": {
      "text/plain": [
       "<matplotlib.legend.Legend at 0x1fa9bf1bdd0>"
      ]
     },
     "execution_count": 51,
     "metadata": {},
     "output_type": "execute_result"
    },
    {
     "data": {
      "image/png": "[encoded data removed]",
      "text/plain": [
       "<Figure size 640x480 with 1 Axes>"
      ]
     },
     "metadata": {},
     "output_type": "display_data"
    }
   ],
   "source": [
    "plt.plot(history.history['accuracy'],label='Accuracy')\n",
    "plt.plot(history.history['val_accuracy'],label='Val Accuracy')\n",
    "plt.legend()"
   ]
  },
  {
   "cell_type": "code",
   "execution_count": 52,
   "id": "d981b1fc-6fec-4be9-8f54-6ab098e0dfc3",
   "metadata": {},
   "outputs": [
    {
     "name": "stdout",
     "output_type": "stream",
     "text": [
      "\u001b[1m32/32\u001b[0m \u001b[32m━━━━━━━━━━━━━━━━━━━━\u001b[0m\u001b[37m\u001b[0m \u001b[1m0s\u001b[0m 2ms/step - accuracy: 0.7500 - loss: 0.4769  \n"
     ]
    }
   ],
   "source": [
    "score=model.evaluate(x,y)"
   ]
  },
  {
   "cell_type": "code",
   "execution_count": null,
   "id": "8d7d544a-533c-4412-a8eb-994936975330",
   "metadata": {},
   "outputs": [],
   "source": [
    "* Modelimiz 0.75 başarı oranına sahip, bu biraz daha yükseltilebilr, loss 0.47, bu ise biraz daha düşürülebilir. \n",
    "* başarı oranını artıralım , scale edip deneyelim"
   ]
  },
  {
   "cell_type": "markdown",
   "id": "45b10325-1182-4705-ab6e-fb4c831f4281",
   "metadata": {},
   "source": [
    "## Z score"
   ]
  },
  {
   "cell_type": "code",
   "execution_count": 54,
   "id": "f5d814e3-525b-4279-90d0-85c1441c4ad1",
   "metadata": {},
   "outputs": [],
   "source": [
    "scaler = StandardScaler()\n",
    "x_train_scaled = scaler.fit_transform(x_train)\n",
    "x_test_scaled = scaler.transform(x_test)"
   ]
  },
  {
   "cell_type": "code",
   "execution_count": 61,
   "id": "2f29834d-8791-4ebd-a1b5-f1220dc4b544",
   "metadata": {},
   "outputs": [
    {
     "name": "stderr",
     "output_type": "stream",
     "text": [
      "C:\\Users\\İdeaPad\\AppData\\Roaming\\Python\\Python312\\site-packages\\keras\\src\\layers\\core\\dense.py:87: UserWarning: Do not pass an `input_shape`/`input_dim` argument to a layer. When using Sequential models, prefer using an `Input(shape)` object as the first layer in the model instead.\n",
      "  super().__init__(activity_regularizer=activity_regularizer, **kwargs)\n"
     ]
    }
   ],
   "source": [
    "model = keras.Sequential([\n",
    "    layers.Dense(64, activation='relu', input_shape=(x_train_scaled.shape[1],)),  \n",
    "    layers.Dense(32, activation='relu'), \n",
    "    layers.Dense(16, activation='relu'),\n",
    "    layers.Dense(8, activation='relu'),\n",
    "    layers.Dense(1, activation='sigmoid')  # Çıkış\n",
    "])"
   ]
  },
  {
   "cell_type": "code",
   "execution_count": 62,
   "id": "8b6e6520-0ab0-4946-a464-44d86b02b438",
   "metadata": {},
   "outputs": [],
   "source": [
    "model.compile(optimizer='adam', loss='binary_crossentropy', metrics=['accuracy'])"
   ]
  },
  {
   "cell_type": "code",
   "execution_count": 63,
   "id": "fb484503-968f-45ea-a02d-2916784563a6",
   "metadata": {
    "scrolled": true
   },
   "outputs": [
    {
     "name": "stdout",
     "output_type": "stream",
     "text": [
      "Epoch 1/50\n",
      "\u001b[1m80/80\u001b[0m \u001b[32m━━━━━━━━━━━━━━━━━━━━\u001b[0m\u001b[37m\u001b[0m \u001b[1m2s\u001b[0m 4ms/step - accuracy: 0.5225 - loss: 0.7307 - val_accuracy: 0.5938 - val_loss: 0.6925\n",
      "Epoch 2/50\n",
      "\u001b[1m80/80\u001b[0m \u001b[32m━━━━━━━━━━━━━━━━━━━━\u001b[0m\u001b[37m\u001b[0m \u001b[1m0s\u001b[0m 2ms/step - accuracy: 0.5568 - loss: 0.7128 - val_accuracy: 0.5938 - val_loss: 0.6601\n",
      "Epoch 3/50\n",
      "\u001b[1m80/80\u001b[0m \u001b[32m━━━━━━━━━━━━━━━━━━━━\u001b[0m\u001b[37m\u001b[0m \u001b[1m0s\u001b[0m 2ms/step - accuracy: 0.5789 - loss: 0.6779 - val_accuracy: 0.5938 - val_loss: 0.6577\n",
      "Epoch 4/50\n",
      "\u001b[1m80/80\u001b[0m \u001b[32m━━━━━━━━━━━━━━━━━━━━\u001b[0m\u001b[37m\u001b[0m \u001b[1m0s\u001b[0m 2ms/step - accuracy: 0.5958 - loss: 0.6709 - val_accuracy: 0.5938 - val_loss: 0.6807\n",
      "Epoch 5/50\n",
      "\u001b[1m80/80\u001b[0m \u001b[32m━━━━━━━━━━━━━━━━━━━━\u001b[0m\u001b[37m\u001b[0m \u001b[1m0s\u001b[0m 2ms/step - accuracy: 0.5854 - loss: 0.6747 - val_accuracy: 0.5938 - val_loss: 0.6769\n",
      "Epoch 6/50\n",
      "\u001b[1m80/80\u001b[0m \u001b[32m━━━━━━━━━━━━━━━━━━━━\u001b[0m\u001b[37m\u001b[0m \u001b[1m0s\u001b[0m 2ms/step - accuracy: 0.5618 - loss: 0.6785 - val_accuracy: 0.5938 - val_loss: 0.6530\n",
      "Epoch 7/50\n",
      "\u001b[1m80/80\u001b[0m \u001b[32m━━━━━━━━━━━━━━━━━━━━\u001b[0m\u001b[37m\u001b[0m \u001b[1m0s\u001b[0m 2ms/step - accuracy: 0.5790 - loss: 0.6636 - val_accuracy: 0.5938 - val_loss: 0.6359\n",
      "Epoch 8/50\n",
      "\u001b[1m80/80\u001b[0m \u001b[32m━━━━━━━━━━━━━━━━━━━━\u001b[0m\u001b[37m\u001b[0m \u001b[1m0s\u001b[0m 2ms/step - accuracy: 0.5668 - loss: 0.6570 - val_accuracy: 0.5938 - val_loss: 0.6309\n",
      "Epoch 9/50\n",
      "\u001b[1m80/80\u001b[0m \u001b[32m━━━━━━━━━━━━━━━━━━━━\u001b[0m\u001b[37m\u001b[0m \u001b[1m0s\u001b[0m 2ms/step - accuracy: 0.5877 - loss: 0.6523 - val_accuracy: 0.5875 - val_loss: 0.6053\n",
      "Epoch 10/50\n",
      "\u001b[1m80/80\u001b[0m \u001b[32m━━━━━━━━━━━━━━━━━━━━\u001b[0m\u001b[37m\u001b[0m \u001b[1m0s\u001b[0m 2ms/step - accuracy: 0.5678 - loss: 0.6717 - val_accuracy: 0.5813 - val_loss: 0.5975\n",
      "Epoch 11/50\n",
      "\u001b[1m80/80\u001b[0m \u001b[32m━━━━━━━━━━━━━━━━━━━━\u001b[0m\u001b[37m\u001b[0m \u001b[1m0s\u001b[0m 2ms/step - accuracy: 0.6315 - loss: 0.6457 - val_accuracy: 0.5938 - val_loss: 0.6381\n",
      "Epoch 12/50\n",
      "\u001b[1m80/80\u001b[0m \u001b[32m━━━━━━━━━━━━━━━━━━━━\u001b[0m\u001b[37m\u001b[0m \u001b[1m0s\u001b[0m 2ms/step - accuracy: 0.5836 - loss: 0.6408 - val_accuracy: 0.5938 - val_loss: 0.5761\n",
      "Epoch 13/50\n",
      "\u001b[1m80/80\u001b[0m \u001b[32m━━━━━━━━━━━━━━━━━━━━\u001b[0m\u001b[37m\u001b[0m \u001b[1m0s\u001b[0m 2ms/step - accuracy: 0.6338 - loss: 0.5943 - val_accuracy: 0.7563 - val_loss: 0.6412\n",
      "Epoch 14/50\n",
      "\u001b[1m80/80\u001b[0m \u001b[32m━━━━━━━━━━━━━━━━━━━━\u001b[0m\u001b[37m\u001b[0m \u001b[1m0s\u001b[0m 2ms/step - accuracy: 0.6245 - loss: 0.6116 - val_accuracy: 0.6062 - val_loss: 0.6692\n",
      "Epoch 15/50\n",
      "\u001b[1m80/80\u001b[0m \u001b[32m━━━━━━━━━━━━━━━━━━━━\u001b[0m\u001b[37m\u001b[0m \u001b[1m0s\u001b[0m 1ms/step - accuracy: 0.6385 - loss: 0.6295 - val_accuracy: 0.7125 - val_loss: 0.5457\n",
      "Epoch 16/50\n",
      "\u001b[1m80/80\u001b[0m \u001b[32m━━━━━━━━━━━━━━━━━━━━\u001b[0m\u001b[37m\u001b[0m \u001b[1m0s\u001b[0m 2ms/step - accuracy: 0.6690 - loss: 0.5918 - val_accuracy: 0.7063 - val_loss: 0.5352\n",
      "Epoch 17/50\n",
      "\u001b[1m80/80\u001b[0m \u001b[32m━━━━━━━━━━━━━━━━━━━━\u001b[0m\u001b[37m\u001b[0m \u001b[1m0s\u001b[0m 2ms/step - accuracy: 0.7372 - loss: 0.5543 - val_accuracy: 0.6375 - val_loss: 0.5439\n",
      "Epoch 18/50\n",
      "\u001b[1m80/80\u001b[0m \u001b[32m━━━━━━━━━━━━━━━━━━━━\u001b[0m\u001b[37m\u001b[0m \u001b[1m0s\u001b[0m 1ms/step - accuracy: 0.7332 - loss: 0.5450 - val_accuracy: 0.7937 - val_loss: 0.5459\n",
      "Epoch 19/50\n",
      "\u001b[1m80/80\u001b[0m \u001b[32m━━━━━━━━━━━━━━━━━━━━\u001b[0m\u001b[37m\u001b[0m \u001b[1m0s\u001b[0m 1ms/step - accuracy: 0.7462 - loss: 0.5573 - val_accuracy: 0.8125 - val_loss: 0.5004\n",
      "Epoch 20/50\n",
      "\u001b[1m80/80\u001b[0m \u001b[32m━━━━━━━━━━━━━━━━━━━━\u001b[0m\u001b[37m\u001b[0m \u001b[1m0s\u001b[0m 2ms/step - accuracy: 0.7153 - loss: 0.5222 - val_accuracy: 0.7563 - val_loss: 0.4856\n",
      "Epoch 21/50\n",
      "\u001b[1m80/80\u001b[0m \u001b[32m━━━━━━━━━━━━━━━━━━━━\u001b[0m\u001b[37m\u001b[0m \u001b[1m0s\u001b[0m 1ms/step - accuracy: 0.6570 - loss: 0.5842 - val_accuracy: 0.7000 - val_loss: 0.5154\n",
      "Epoch 22/50\n",
      "\u001b[1m80/80\u001b[0m \u001b[32m━━━━━━━━━━━━━━━━━━━━\u001b[0m\u001b[37m\u001b[0m \u001b[1m0s\u001b[0m 1ms/step - accuracy: 0.6570 - loss: 0.5939 - val_accuracy: 0.8125 - val_loss: 0.5104\n",
      "Epoch 23/50\n",
      "\u001b[1m80/80\u001b[0m \u001b[32m━━━━━━━━━━━━━━━━━━━━\u001b[0m\u001b[37m\u001b[0m \u001b[1m0s\u001b[0m 2ms/step - accuracy: 0.7206 - loss: 0.5276 - val_accuracy: 0.7937 - val_loss: 0.4662\n",
      "Epoch 24/50\n",
      "\u001b[1m80/80\u001b[0m \u001b[32m━━━━━━━━━━━━━━━━━━━━\u001b[0m\u001b[37m\u001b[0m \u001b[1m0s\u001b[0m 2ms/step - accuracy: 0.7651 - loss: 0.5072 - val_accuracy: 0.7812 - val_loss: 0.4602\n",
      "Epoch 25/50\n",
      "\u001b[1m80/80\u001b[0m \u001b[32m━━━━━━━━━━━━━━━━━━━━\u001b[0m\u001b[37m\u001b[0m \u001b[1m0s\u001b[0m 2ms/step - accuracy: 0.7262 - loss: 0.5324 - val_accuracy: 0.8250 - val_loss: 0.4669\n",
      "Epoch 26/50\n",
      "\u001b[1m80/80\u001b[0m \u001b[32m━━━━━━━━━━━━━━━━━━━━\u001b[0m\u001b[37m\u001b[0m \u001b[1m0s\u001b[0m 2ms/step - accuracy: 0.7428 - loss: 0.5208 - val_accuracy: 0.7375 - val_loss: 0.4846\n",
      "Epoch 27/50\n",
      "\u001b[1m80/80\u001b[0m \u001b[32m━━━━━━━━━━━━━━━━━━━━\u001b[0m\u001b[37m\u001b[0m \u001b[1m0s\u001b[0m 2ms/step - accuracy: 0.7600 - loss: 0.5077 - val_accuracy: 0.8188 - val_loss: 0.4618\n",
      "Epoch 28/50\n",
      "\u001b[1m80/80\u001b[0m \u001b[32m━━━━━━━━━━━━━━━━━━━━\u001b[0m\u001b[37m\u001b[0m \u001b[1m0s\u001b[0m 2ms/step - accuracy: 0.7281 - loss: 0.5104 - val_accuracy: 0.7688 - val_loss: 0.4842\n",
      "Epoch 29/50\n",
      "\u001b[1m80/80\u001b[0m \u001b[32m━━━━━━━━━━━━━━━━━━━━\u001b[0m\u001b[37m\u001b[0m \u001b[1m0s\u001b[0m 2ms/step - accuracy: 0.7722 - loss: 0.4788 - val_accuracy: 0.7937 - val_loss: 0.4428\n",
      "Epoch 30/50\n",
      "\u001b[1m80/80\u001b[0m \u001b[32m━━━━━━━━━━━━━━━━━━━━\u001b[0m\u001b[37m\u001b[0m \u001b[1m0s\u001b[0m 2ms/step - accuracy: 0.7386 - loss: 0.4952 - val_accuracy: 0.7875 - val_loss: 0.4433\n",
      "Epoch 31/50\n",
      "\u001b[1m80/80\u001b[0m \u001b[32m━━━━━━━━━━━━━━━━━━━━\u001b[0m\u001b[37m\u001b[0m \u001b[1m0s\u001b[0m 2ms/step - accuracy: 0.7607 - loss: 0.4913 - val_accuracy: 0.7063 - val_loss: 0.5326\n",
      "Epoch 32/50\n",
      "\u001b[1m80/80\u001b[0m \u001b[32m━━━━━━━━━━━━━━━━━━━━\u001b[0m\u001b[37m\u001b[0m \u001b[1m0s\u001b[0m 2ms/step - accuracy: 0.7450 - loss: 0.5066 - val_accuracy: 0.8250 - val_loss: 0.4278\n",
      "Epoch 33/50\n",
      "\u001b[1m80/80\u001b[0m \u001b[32m━━━━━━━━━━━━━━━━━━━━\u001b[0m\u001b[37m\u001b[0m \u001b[1m0s\u001b[0m 2ms/step - accuracy: 0.7341 - loss: 0.5465 - val_accuracy: 0.8125 - val_loss: 0.4319\n",
      "Epoch 34/50\n",
      "\u001b[1m80/80\u001b[0m \u001b[32m━━━━━━━━━━━━━━━━━━━━\u001b[0m\u001b[37m\u001b[0m \u001b[1m0s\u001b[0m 2ms/step - accuracy: 0.7821 - loss: 0.4582 - val_accuracy: 0.8000 - val_loss: 0.4310\n",
      "Epoch 35/50\n",
      "\u001b[1m80/80\u001b[0m \u001b[32m━━━━━━━━━━━━━━━━━━━━\u001b[0m\u001b[37m\u001b[0m \u001b[1m0s\u001b[0m 2ms/step - accuracy: 0.7888 - loss: 0.4506 - val_accuracy: 0.8500 - val_loss: 0.4174\n",
      "Epoch 36/50\n",
      "\u001b[1m80/80\u001b[0m \u001b[32m━━━━━━━━━━━━━━━━━━━━\u001b[0m\u001b[37m\u001b[0m \u001b[1m0s\u001b[0m 2ms/step - accuracy: 0.7682 - loss: 0.4890 - val_accuracy: 0.7437 - val_loss: 0.5132\n",
      "Epoch 37/50\n",
      "\u001b[1m80/80\u001b[0m \u001b[32m━━━━━━━━━━━━━━━━━━━━\u001b[0m\u001b[37m\u001b[0m \u001b[1m0s\u001b[0m 2ms/step - accuracy: 0.7626 - loss: 0.4843 - val_accuracy: 0.7688 - val_loss: 0.4695\n",
      "Epoch 38/50\n",
      "\u001b[1m80/80\u001b[0m \u001b[32m━━━━━━━━━━━━━━━━━━━━\u001b[0m\u001b[37m\u001b[0m \u001b[1m0s\u001b[0m 2ms/step - accuracy: 0.7335 - loss: 0.4971 - val_accuracy: 0.7437 - val_loss: 0.4955\n",
      "Epoch 39/50\n",
      "\u001b[1m80/80\u001b[0m \u001b[32m━━━━━━━━━━━━━━━━━━━━\u001b[0m\u001b[37m\u001b[0m \u001b[1m0s\u001b[0m 2ms/step - accuracy: 0.7556 - loss: 0.4832 - val_accuracy: 0.7437 - val_loss: 0.4710\n",
      "Epoch 40/50\n",
      "\u001b[1m80/80\u001b[0m \u001b[32m━━━━━━━━━━━━━━━━━━━━\u001b[0m\u001b[37m\u001b[0m \u001b[1m0s\u001b[0m 2ms/step - accuracy: 0.7694 - loss: 0.4663 - val_accuracy: 0.7437 - val_loss: 0.4738\n",
      "Epoch 41/50\n",
      "\u001b[1m80/80\u001b[0m \u001b[32m━━━━━━━━━━━━━━━━━━━━\u001b[0m\u001b[37m\u001b[0m \u001b[1m0s\u001b[0m 2ms/step - accuracy: 0.7721 - loss: 0.4805 - val_accuracy: 0.8062 - val_loss: 0.4271\n",
      "Epoch 42/50\n",
      "\u001b[1m80/80\u001b[0m \u001b[32m━━━━━━━━━━━━━━━━━━━━\u001b[0m\u001b[37m\u001b[0m \u001b[1m0s\u001b[0m 1ms/step - accuracy: 0.7480 - loss: 0.4959 - val_accuracy: 0.7688 - val_loss: 0.4694\n",
      "Epoch 43/50\n",
      "\u001b[1m80/80\u001b[0m \u001b[32m━━━━━━━━━━━━━━━━━━━━\u001b[0m\u001b[37m\u001b[0m \u001b[1m0s\u001b[0m 2ms/step - accuracy: 0.7862 - loss: 0.4419 - val_accuracy: 0.7750 - val_loss: 0.4402\n",
      "Epoch 44/50\n",
      "\u001b[1m80/80\u001b[0m \u001b[32m━━━━━━━━━━━━━━━━━━━━\u001b[0m\u001b[37m\u001b[0m \u001b[1m0s\u001b[0m 1ms/step - accuracy: 0.7494 - loss: 0.4928 - val_accuracy: 0.7750 - val_loss: 0.4414\n",
      "Epoch 45/50\n",
      "\u001b[1m80/80\u001b[0m \u001b[32m━━━━━━━━━━━━━━━━━━━━\u001b[0m\u001b[37m\u001b[0m \u001b[1m0s\u001b[0m 1ms/step - accuracy: 0.7575 - loss: 0.4716 - val_accuracy: 0.7625 - val_loss: 0.4910\n",
      "Epoch 46/50\n",
      "\u001b[1m80/80\u001b[0m \u001b[32m━━━━━━━━━━━━━━━━━━━━\u001b[0m\u001b[37m\u001b[0m \u001b[1m0s\u001b[0m 2ms/step - accuracy: 0.7644 - loss: 0.4607 - val_accuracy: 0.7375 - val_loss: 0.4816\n",
      "Epoch 47/50\n",
      "\u001b[1m80/80\u001b[0m \u001b[32m━━━━━━━━━━━━━━━━━━━━\u001b[0m\u001b[37m\u001b[0m \u001b[1m0s\u001b[0m 2ms/step - accuracy: 0.7970 - loss: 0.4199 - val_accuracy: 0.7688 - val_loss: 0.4508\n",
      "Epoch 48/50\n",
      "\u001b[1m80/80\u001b[0m \u001b[32m━━━━━━━━━━━━━━━━━━━━\u001b[0m\u001b[37m\u001b[0m \u001b[1m0s\u001b[0m 2ms/step - accuracy: 0.7529 - loss: 0.4946 - val_accuracy: 0.7875 - val_loss: 0.4305\n",
      "Epoch 49/50\n",
      "\u001b[1m80/80\u001b[0m \u001b[32m━━━━━━━━━━━━━━━━━━━━\u001b[0m\u001b[37m\u001b[0m \u001b[1m0s\u001b[0m 1ms/step - accuracy: 0.7545 - loss: 0.4739 - val_accuracy: 0.7812 - val_loss: 0.4312\n",
      "Epoch 50/50\n",
      "\u001b[1m80/80\u001b[0m \u001b[32m━━━━━━━━━━━━━━━━━━━━\u001b[0m\u001b[37m\u001b[0m \u001b[1m0s\u001b[0m 2ms/step - accuracy: 0.7643 - loss: 0.4740 - val_accuracy: 0.7937 - val_loss: 0.4243\n"
     ]
    }
   ],
   "source": [
    "history=model.fit(x_train, y_train, epochs=50, batch_size=8, validation_split=0.2)"
   ]
  },
  {
   "cell_type": "markdown",
   "id": "5ceca21c-292d-4e29-a0e7-ec42433a2631",
   "metadata": {},
   "source": [
    "* Normalize edip layer ekledikten sonra sonuç 1 arttı, data daha fazlaolsaydı daha iyi bir model sonuç verebilirdi, dat 999 satır, ve eğitime giden kısmı çıkarınca azalmış oldu."
   ]
  },
  {
   "cell_type": "code",
   "execution_count": null,
   "id": "7618bc00-0adc-41bd-96e8-1deec05173bb",
   "metadata": {},
   "outputs": [],
   "source": []
  }
 ],
 "metadata": {
  "kernelspec": {
   "display_name": "Python 3 (ipykernel)",
   "language": "python",
   "name": "python3"
  },
  "language_info": {
   "codemirror_mode": {
    "name": "ipython",
    "version": 3
   },
   "file_extension": ".py",
   "mimetype": "text/x-python",
   "name": "python",
   "nbconvert_exporter": "python",
   "pygments_lexer": "ipython3",
   "version": "3.12.4"
  }
 },
 "nbformat": 4,
 "nbformat_minor": 5
}
